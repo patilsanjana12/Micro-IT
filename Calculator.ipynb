{
  "nbformat": 4,
  "nbformat_minor": 0,
  "metadata": {
    "colab": {
      "provenance": [],
      "authorship_tag": "ABX9TyOmHL8nMAmiAkr52jsKbEIR",
      "include_colab_link": true
    },
    "kernelspec": {
      "name": "python3",
      "display_name": "Python 3"
    },
    "language_info": {
      "name": "python"
    }
  },
  "cells": [
    {
      "cell_type": "markdown",
      "metadata": {
        "id": "view-in-github",
        "colab_type": "text"
      },
      "source": [
        "<a href=\"https://colab.research.google.com/github/patilsanjana12/Scientific-Calculator/blob/main/micro.ipynb\" target=\"_parent\"><img src=\"https://colab.research.google.com/assets/colab-badge.svg\" alt=\"Open In Colab\"/></a>"
      ]
    },
    {
      "cell_type": "code",
      "execution_count": null,
      "metadata": {
        "colab": {
          "base_uri": "https://localhost:8080/"
        },
        "id": "-YY3Z9pX8BVv",
        "outputId": "cd367d0a-d95c-477a-83a2-566e6258a5dd"
      },
      "outputs": [
        {
          "output_type": "stream",
          "name": "stdout",
          "text": [
            "Scientific Calculator\n",
            "----------------------\n",
            "Select Operation:\n",
            "1. Add\n",
            "2. Subtract\n",
            "3. Multiply\n",
            "4. Divide\n",
            "5. Power (x^y)\n",
            "6. Square Root\n",
            "7. Sine\n",
            "8. Cosine\n",
            "9. Tangent\n",
            "10. Logarithm (base 10)\n",
            "Enter choice (1-10): 1\n",
            "Enter first number: 1\n",
            "Enter second number: 1\n",
            "Result: 2.0\n",
            "Do you want to perform another calculation? (yes/no): no\n",
            "Exiting Calculator. Thank you!\n"
          ]
        }
      ],
      "source": [
        "\n",
        "import math\n",
        "\n",
        "def add(x, y):\n",
        "    return x + y\n",
        "\n",
        "def subtract(x, y):\n",
        "    return x - y\n",
        "\n",
        "def multiply(x, y):\n",
        "    return x * y\n",
        "\n",
        "def divide(x, y):\n",
        "    if y == 0:\n",
        "        return \"Error! Division by zero.\"\n",
        "    return x / y\n",
        "\n",
        "def power(x, y):\n",
        "    return math.pow(x, y)\n",
        "\n",
        "def square_root(x):\n",
        "    return math.sqrt(x)\n",
        "\n",
        "def sine(x):\n",
        "    return math.sin(math.radians(x))\n",
        "\n",
        "def cosine(x):\n",
        "    return math.cos(math.radians(x))\n",
        "\n",
        "def tangent(x):\n",
        "    return math.tan(math.radians(x))\n",
        "\n",
        "def logarithm(x):\n",
        "    return math.log10(x)\n",
        "\n",
        "print(\"Scientific Calculator\")\n",
        "print(\"----------------------\")\n",
        "print(\"Select Operation:\")\n",
        "print(\"1. Add\")\n",
        "print(\"2. Subtract\")\n",
        "print(\"3. Multiply\")\n",
        "print(\"4. Divide\")\n",
        "print(\"5. Power (x^y)\")\n",
        "print(\"6. Square Root\")\n",
        "print(\"7. Sine\")\n",
        "print(\"8. Cosine\")\n",
        "print(\"9. Tangent\")\n",
        "print(\"10. Logarithm (base 10)\")\n",
        "\n",
        "while True:\n",
        "    choice = input(\"Enter choice (1-10): \")\n",
        "\n",
        "    if choice in ['1', '2', '3', '4', '5']:\n",
        "        num1 = float(input(\"Enter first number: \"))\n",
        "        num2 = float(input(\"Enter second number: \"))\n",
        "\n",
        "        if choice == '1':\n",
        "            print(f\"Result: {add(num1, num2)}\")\n",
        "        elif choice == '2':\n",
        "            print(f\"Result: {subtract(num1, num2)}\")\n",
        "        elif choice == '3':\n",
        "            print(f\"Result: {multiply(num1, num2)}\")\n",
        "        elif choice == '4':\n",
        "            print(f\"Result: {divide(num1, num2)}\")\n",
        "        elif choice == '5':\n",
        "            print(f\"Result: {power(num1, num2)}\")\n",
        "\n",
        "    elif choice in ['6', '7', '8', '9', '10']:\n",
        "        num = float(input(\"Enter the number: \"))\n",
        "\n",
        "        if choice == '6':\n",
        "            print(f\"Result: {square_root(num)}\")\n",
        "        elif choice == '7':\n",
        "            print(f\"Result (sin): {sine(num)}\")\n",
        "        elif choice == '8':\n",
        "            print(f\"Result (cos): {cosine(num)}\")\n",
        "        elif choice == '9':\n",
        "            print(f\"Result (tan): {tangent(num)}\")\n",
        "        elif choice == '10':\n",
        "            print(f\"Result (log base 10): {logarithm(num)}\")\n",
        "\n",
        "    else:\n",
        "        print(\"Invalid input!\")\n",
        "\n",
        "    next_calc = input(\"Do you want to perform another calculation? (yes/no): \")\n",
        "    if next_calc.lower() != 'yes':\n",
        "        print(\"Exiting Calculator. Thank you!\")\n",
        "        break"
      ]
    },
    {
      "cell_type": "code",
      "source": [],
      "metadata": {
        "id": "_VqvVugb8wrF"
      },
      "execution_count": null,
      "outputs": []
    }
  ]
}
